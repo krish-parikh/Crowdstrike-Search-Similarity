{
 "cells": [
  {
   "cell_type": "markdown",
   "metadata": {},
   "source": [
    "# Pastebin Similarity Search System"
   ]
  },
  {
   "cell_type": "code",
   "execution_count": 1,
   "metadata": {},
   "outputs": [],
   "source": [
    "from pinecone import Pinecone\n",
    "import json\n",
    "import re\n",
    "import os\n",
    "from tqdm import tqdm\n",
    "import time\n",
    "from langdetect import detect, LangDetectException\n",
    "import re, unicodedata"
   ]
  },
  {
   "cell_type": "code",
   "execution_count": 2,
   "metadata": {},
   "outputs": [
    {
     "name": "stdout",
     "output_type": "stream",
     "text": [
      "Pinecone client initialized successfully!\n",
      "Available indexes: []\n"
     ]
    }
   ],
   "source": [
    "PINECONE_API_KEY=os.getenv(\"PINECONE_API_KEY\")\n",
    "PINECONE_ENVIRONMENT=\"us-east-1\"\n",
    "\n",
    "# Initialize Pinecone client\n",
    "pc = Pinecone(api_key=PINECONE_API_KEY)\n",
    "\n",
    "\n",
    "print(\"Pinecone client initialized successfully!\")\n",
    "print(f\"Available indexes: {[idx.name for idx in pc.list_indexes()]}\")"
   ]
  },
  {
   "cell_type": "markdown",
   "metadata": {},
   "source": [
    "# Data Cleaning\n",
    "\n",
    "- Extract the title and id from pastes with \"en\" language\n",
    "- Filter out pastes with \"untitled\" title\n",
    "- Filter out pastes with non-english titles using langdetect\n",
    "- Save both english and non-english pastes to separate files"
   ]
  },
  {
   "cell_type": "code",
   "execution_count": 3,
   "metadata": {},
   "outputs": [],
   "source": [
    "file_path = 'paste_extract.json'\n",
    "\n",
    "records = []\n",
    "\n",
    "with open(file_path, 'r') as f:\n",
    "    for line in f:\n",
    "        line = line.strip()\n",
    "        if line:\n",
    "            try:\n",
    "                obj = json.loads(line)\n",
    "                title = obj.get('title')\n",
    "                id = obj.get('id')\n",
    "                language = obj.get('language')\n",
    "                if title and id and title.lower() != \"untitled\" and language == \"en\":  # filter out untitled and non-english titles\n",
    "                    records.append({'title': title, 'id': id}) # only append title and id to records\n",
    "            except json.JSONDecodeError as e:\n",
    "                print(f\"Error parsing line: {e}\")"
   ]
  },
  {
   "cell_type": "code",
   "execution_count": null,
   "metadata": {},
   "outputs": [
    {
     "name": "stderr",
     "output_type": "stream",
     "text": [
      "Processing records: 100%|██████████| 67836/67836 [10:27<00:00, 108.07it/s]"
     ]
    },
    {
     "name": "stdout",
     "output_type": "stream",
     "text": [
      "41780\n"
     ]
    },
    {
     "name": "stderr",
     "output_type": "stream",
     "text": [
      "\n"
     ]
    }
   ],
   "source": [
    "def is_english(text):\n",
    "    try:\n",
    "        return detect(text) == 'en'\n",
    "    except LangDetectException:\n",
    "        return False\n",
    "\n",
    "filtered_records = []\n",
    "\n",
    "for i, record in enumerate(tqdm(records, desc=\"Processing records\")):\n",
    "    if not is_english(record['title']):\n",
    "        filtered_records.append(record)\n",
    "\n",
    "print(len(filtered_records))"
   ]
  },
  {
   "cell_type": "code",
   "execution_count": 98,
   "metadata": {},
   "outputs": [],
   "source": [
    "# Save non-English records\n",
    "with open('non_english_records.json', 'w') as f:\n",
    "    json.dump(filtered_records, f, indent=2)\n",
    "\n",
    "\n",
    "filtered_ids = set(record['id'] for record in filtered_records)\n",
    "english_records = [record for record in records if record['id'] not in filtered_ids]\n",
    "\n",
    "# Save English records\n",
    "with open('english_records.json', 'w') as f:\n",
    "    json.dump(english_records, f, indent=2)\n"
   ]
  },
  {
   "cell_type": "markdown",
   "metadata": {},
   "source": [
    "# Vector Embedding\n",
    "\n",
    "- Load the english pastes json file\n",
    "- Preprocess the titles by performing unicode normalization, removing urls, file extensions, leading and trailing punctuation, and collapsing multiple spaces\n",
    "- Create a dense index with a built in embedding model\n",
    "- Batch the records and upsert them into the index"
   ]
  },
  {
   "cell_type": "code",
   "execution_count": 11,
   "metadata": {},
   "outputs": [],
   "source": [
    "with open('english_records.json', 'r') as f:\n",
    "    english_records = json.load(f)            "
   ]
  },
  {
   "cell_type": "code",
   "execution_count": 12,
   "metadata": {},
   "outputs": [],
   "source": [
    "# Create a dense index with integrated embedding\n",
    "index_name = \"similarity-search\"\n",
    "if not pc.has_index(index_name):\n",
    "    pc.create_index_for_model(\n",
    "        name=index_name,\n",
    "        cloud=\"aws\",\n",
    "        region=\"us-east-1\",\n",
    "        embed={\n",
    "            \"model\":\"llama-text-embed-v2\",\n",
    "            \"field_map\":{\"text\": \"chunk_text\"}\n",
    "        }\n",
    "    )"
   ]
  },
  {
   "cell_type": "code",
   "execution_count": 23,
   "metadata": {},
   "outputs": [],
   "source": [
    "def clean_title(title):\n",
    "    if not isinstance(title, str):\n",
    "        return \"\"\n",
    "    t = unicodedata.normalize(\"NFKC\", title) # fix miss encoded glyphs\n",
    "    t = t.lower().strip() # lowercase and strip whitespace\n",
    "    t = re.sub(r\"https?://\\S+\", \" \", t) # remove urls\n",
    "    t = re.sub(r\"\\.\\w{1,4}\\b.*$\", \"\", t) # remove file extensions\n",
    "    t = re.sub(r\"^[^\\w]+|[^\\w]+$\", \"\", t) # drop leading and trailing punctuation\n",
    "    t = re.sub(r\"\\s+\", \" \", t)\n",
    "    return t.strip()\n",
    "\n",
    "\n",
    "clean_english_records = [\n",
    "    {'chunk_text': cleaned, 'id': record['id']}\n",
    "    for record in english_records\n",
    "    if (cleaned := clean_title(record.get('title', '')))  # clean and check if not empty\n",
    "]\n"
   ]
  },
  {
   "cell_type": "code",
   "execution_count": 24,
   "metadata": {},
   "outputs": [
    {
     "name": "stderr",
     "output_type": "stream",
     "text": [
      "Upserting batches: 100%|██████████| 290/290 [07:18<00:00,  1.51s/it]\n"
     ]
    },
    {
     "name": "stdout",
     "output_type": "stream",
     "text": [
      "Completed upserting 26046 records in 290 batches\n",
      "Waiting for indexing to complete...\n",
      "Index stats: {'dimension': 1024,\n",
      " 'index_fullness': 0.0,\n",
      " 'metric': 'cosine',\n",
      " 'namespaces': {'paste_data': {'vector_count': 26046}},\n",
      " 'total_vector_count': 26046,\n",
      " 'vector_type': 'dense'}\n"
     ]
    }
   ],
   "source": [
    "# Batch the upsert\n",
    "def batch_upsert(index, namespace, records, batch_size=90):\n",
    "\n",
    "    total_batches = (len(records) + batch_size - 1) // batch_size\n",
    "    \n",
    "    for i in tqdm(range(0, len(records), batch_size), desc=\"Upserting batches\"):\n",
    "        batch = records[i:i + batch_size]\n",
    "        try:\n",
    "            index.upsert_records(namespace, batch)\n",
    "            time.sleep(1)\n",
    "        except Exception as e:\n",
    "            print(f\"Error upserting batch {i//batch_size + 1}: {e}\")\n",
    "            continue\n",
    "    \n",
    "    print(f\"Completed upserting {len(records)} records in {total_batches} batches\")\n",
    "\n",
    "dense_index = pc.Index(index_name)\n",
    "\n",
    "# Upsert the records in batches\n",
    "batch_upsert(dense_index, \"paste_data\", clean_english_records)\n",
    "\n",
    "# Wait for the upserted vectors to be indexed\n",
    "print(\"Waiting for indexing to complete...\")\n",
    "time.sleep(15)\n",
    "\n",
    "# stats for the index\n",
    "stats = dense_index.describe_index_stats()\n",
    "print(\"Index stats:\", stats)"
   ]
  },
  {
   "cell_type": "markdown",
   "metadata": {},
   "source": [
    "# Search Similarity\n",
    "\n",
    "Use the get_info function to search the index for any desired query and it will return the top k most similar pastes with their ids and relevancy scores."
   ]
  },
  {
   "cell_type": "code",
   "execution_count": 25,
   "metadata": {},
   "outputs": [
    {
     "name": "stdout",
     "output_type": "stream",
     "text": [
      "id: 6f923f4e-00b8-46b3-9df3-d5ff731cc93a | score: 0.46  | text: western union transfer hack bank transfer hack paypal credit card hack\n",
      "id: c56a39c1-46a4-42a3-a0f0-01240dca0b83 | score: 0.45  | text: western union transfer hack bank transfer hack paypal credit card hack transfer\n",
      "id: 45c9da7b-1ba4-4209-b8de-7705d7fdf8a3 | score: 0.44  | text: western union transfer hack bank transfer hack paypal credit card hack\n",
      "id: 7f06c490-3b4c-4970-aff5-7d5e15f1d544 | score: 0.44  | text: western union transfer hack bank transfer hack paypal credit card hack\n",
      "id: 4df6db0b-cc05-42e2-b640-16df963d1e5b | score: 0.44  | text: western union transfer hack bank transfer hack paypal credit card hack\n",
      "id: d5904521-8219-4b99-97bb-736e52524f31 | score: 0.44  | text: western union transfer hack bank transfer hack paypal credit card hack transfer\n",
      "id: 674f3e28-d4b0-4130-9c17-8740e89e99dc | score: 0.44  | text: western union transfer hack bank transfer hack paypal credit card hack transfer\n",
      "id: 5395c315-f199-40ba-928a-cafad01db507 | score: 0.44  | text: western union transfer hack bank transfer hack paypal credit card hack transfer\n",
      "id: c31993ef-f8ac-4174-9947-8c48dc62fc3d | score: 0.44  | text: western union transfer hack bank transfer hack paypal credit card hack transfer\n",
      "id: 6ef43434-d5cb-4ae7-bd40-41ad13f7fbd9 | score: 0.44  | text: western union transfer hack bank transfer hack paypal credit card hack transfer\n",
      "None\n"
     ]
    }
   ],
   "source": [
    "\n",
    "def get_info(query, top_k = 10):\n",
    "    # Search the dense index and rerank results\n",
    "    results = dense_index.search(\n",
    "        namespace=\"paste_data\",\n",
    "        query={\n",
    "            \"top_k\": top_k,\n",
    "            \"inputs\": {\n",
    "                'text': query\n",
    "            }\n",
    "        }\n",
    "    )\n",
    "\n",
    "    # Print the results\n",
    "    for hit in results['result']['hits']:\n",
    "            print(f\"id: {hit['_id']:<5} | score: {round(hit['_score'], 2):<5} | text: {hit['fields']['chunk_text']:<50}\")\n",
    "            \n",
    "query = \"bank account hacks\"\n",
    "print(get_info(query, top_k = 10))"
   ]
  },
  {
   "cell_type": "code",
   "execution_count": 95,
   "metadata": {},
   "outputs": [],
   "source": [
    "# function to delete index\n",
    "pc.delete_index(\"similarity-search\")"
   ]
  }
 ],
 "metadata": {
  "kernelspec": {
   "display_name": "base",
   "language": "python",
   "name": "python3"
  },
  "language_info": {
   "codemirror_mode": {
    "name": "ipython",
    "version": 3
   },
   "file_extension": ".py",
   "mimetype": "text/x-python",
   "name": "python",
   "nbconvert_exporter": "python",
   "pygments_lexer": "ipython3",
   "version": "3.9.13"
  }
 },
 "nbformat": 4,
 "nbformat_minor": 2
}
