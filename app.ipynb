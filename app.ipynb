{
 "cells": [
  {
   "cell_type": "markdown",
   "metadata": {},
   "source": [
    "# Pastebin Similarity Search System"
   ]
  },
  {
   "cell_type": "code",
   "execution_count": null,
   "metadata": {},
   "outputs": [],
   "source": [
    "from pinecone import Pinecone\n",
    "import json\n",
    "import re\n",
    "import os\n",
    "from tqdm import tqdm\n",
    "import time\n",
    "from langdetect import detect, LangDetectException\n",
    "import re, unicodedata"
   ]
  },
  {
   "cell_type": "code",
   "execution_count": 93,
   "metadata": {},
   "outputs": [
    {
     "name": "stdout",
     "output_type": "stream",
     "text": [
      "✅ Pinecone client initialized successfully!\n",
      "Available indexes: ['similarity-search']\n"
     ]
    }
   ],
   "source": [
    "PINECONE_API_KEY=os.getenv(\"PINECONE_API_KEY\")\n",
    "PINECONE_ENVIRONMENT=\"us-east-1\"\n",
    "\n",
    "# Initialize Pinecone client\n",
    "pc = Pinecone(api_key=PINECONE_API_KEY)\n",
    "\n",
    "\n",
    "print(\"✅ Pinecone client initialized successfully!\")\n",
    "print(f\"Available indexes: {[idx.name for idx in pc.list_indexes()]}\")"
   ]
  },
  {
   "cell_type": "code",
   "execution_count": null,
   "metadata": {},
   "outputs": [],
   "source": [
    "file_path = 'paste_extract.json'\n",
    "\n",
    "records = []\n",
    "\n",
    "with open(file_path, 'r') as f:\n",
    "    for line in f:\n",
    "        line = line.strip()\n",
    "        if line:\n",
    "            try:\n",
    "                obj = json.loads(line)\n",
    "                title = obj.get('title')\n",
    "                id = obj.get('id')\n",
    "                language = obj.get('language')\n",
    "                if title and id and title.lower() != \"untitled\" and language == \"en\":  # filter out untitled and non-english titles\n",
    "                    records.append({'title': title, 'id': id}) # only append title and id to records\n",
    "            except json.JSONDecodeError as e:\n",
    "                print(f\"Error parsing line: {e}\")"
   ]
  },
  {
   "cell_type": "code",
   "execution_count": null,
   "metadata": {},
   "outputs": [
    {
     "name": "stderr",
     "output_type": "stream",
     "text": [
      "Processing records: 100%|██████████| 67836/67836 [10:27<00:00, 108.07it/s]"
     ]
    },
    {
     "name": "stdout",
     "output_type": "stream",
     "text": [
      "41780\n"
     ]
    },
    {
     "name": "stderr",
     "output_type": "stream",
     "text": [
      "\n"
     ]
    }
   ],
   "source": [
    "def is_english(text):\n",
    "    try:\n",
    "        return detect(text) == 'en'\n",
    "    except LangDetectException:\n",
    "        return False\n",
    "\n",
    "filtered_records = []\n",
    "\n",
    "for i, record in enumerate(tqdm(records, desc=\"Processing records\")):\n",
    "    if not is_english(record['title']):\n",
    "        filtered_records.append(record)\n",
    "\n",
    "print(len(filtered_records))"
   ]
  },
  {
   "cell_type": "code",
   "execution_count": 51,
   "metadata": {},
   "outputs": [
    {
     "name": "stdout",
     "output_type": "stream",
     "text": [
      "Saved 41780 non-English records to 'non_english_records.json'\n",
      "Found 26056 English records\n",
      "Total records: 67836\n",
      "Non-English: 41780\n",
      "English: 26056\n",
      "Verification: True\n"
     ]
    }
   ],
   "source": [
    "# Save non-English records\n",
    "with open('non_english_records.json', 'w') as f:\n",
    "    json.dump(filtered_records, f, indent=2)\n",
    "\n",
    "\n",
    "filtered_ids = set(record['id'] for record in filtered_records)\n",
    "english_records = [record for record in records if record['id'] not in filtered_ids]\n",
    "\n",
    "# Save English records\n",
    "with open('english_records.json', 'w') as f:\n",
    "    json.dump(english_records, f, indent=2)\n"
   ]
  },
  {
   "cell_type": "code",
   "execution_count": 72,
   "metadata": {},
   "outputs": [],
   "source": [
    "# Create a dense index with integrated embedding\n",
    "index_name = \"similarity-search\"\n",
    "if not pc.has_index(index_name):\n",
    "    pc.create_index_for_model(\n",
    "        name=index_name,\n",
    "        cloud=\"aws\",\n",
    "        region=\"us-east-1\",\n",
    "        embed={\n",
    "            \"model\":\"llama-text-embed-v2\",\n",
    "            \"field_map\":{\"text\": \"chunk_text\"}\n",
    "        }\n",
    "    )"
   ]
  },
  {
   "cell_type": "code",
   "execution_count": 73,
   "metadata": {},
   "outputs": [],
   "source": [
    "def clean_title(title: str) -> str:\n",
    "    t = unicodedata.normalize(\"NFKC\", title)        # fix miss encoded glyphs\n",
    "    t = t.lower().strip()                           # lowercase and strip whitespace\n",
    "    t = re.sub(r\"https?://\\S+\", \" \", t)             # remove urls\n",
    "    t = re.sub(r\"\\.\\w{1,4}\\b.*$\", \"\", t)            # remove file extensions\n",
    "    t = re.sub(r\"^[^\\w]+|[^\\w]+$\", \"\", t)           # drop leading and trailing punctuation\n",
    "    t = re.sub(r\"\\s+\", \" \", t)                      # collapse multiple spaces\n",
    "    return t\n",
    "\n",
    "clean_english_records = [{'chunk_text': clean_title(record['title']), 'id': record['id']} for record in english_records]"
   ]
  },
  {
   "cell_type": "code",
   "execution_count": 75,
   "metadata": {},
   "outputs": [
    {
     "name": "stderr",
     "output_type": "stream",
     "text": [
      "Upserting batches:   4%|▍         | 11/290 [00:15<05:00,  1.08s/it]"
     ]
    },
    {
     "name": "stdout",
     "output_type": "stream",
     "text": [
      "Error upserting batch 11: (400)\n",
      "Reason: Bad Request\n",
      "HTTP response headers: HTTPHeaderDict({'Date': 'Fri, 13 Jun 2025 16:37:15 GMT', 'Content-Type': 'text/plain; charset=utf-8', 'Content-Length': '185', 'Connection': 'keep-alive', 'x-envoy-upstream-service-time': '78', 'server': 'envoy'})\n",
      "HTTP response body: {\"error\":{\"code\":\"INVALID_ARGUMENT\",\"message\":\"Embedding error: 'Input list must be non-empty and all elements must be non-empty.' occurred for model llama-text-embed-v2\"},\"status\":400}\n",
      "\n"
     ]
    },
    {
     "name": "stderr",
     "output_type": "stream",
     "text": [
      "Upserting batches:   8%|▊         | 22/290 [00:29<04:44,  1.06s/it]"
     ]
    },
    {
     "name": "stdout",
     "output_type": "stream",
     "text": [
      "Error upserting batch 22: (400)\n",
      "Reason: Bad Request\n",
      "HTTP response headers: HTTPHeaderDict({'Date': 'Fri, 13 Jun 2025 16:37:29 GMT', 'Content-Type': 'text/plain; charset=utf-8', 'Content-Length': '185', 'Connection': 'keep-alive', 'x-envoy-upstream-service-time': '43', 'server': 'envoy'})\n",
      "HTTP response body: {\"error\":{\"code\":\"INVALID_ARGUMENT\",\"message\":\"Embedding error: 'Input list must be non-empty and all elements must be non-empty.' occurred for model llama-text-embed-v2\"},\"status\":400}\n",
      "\n"
     ]
    },
    {
     "name": "stderr",
     "output_type": "stream",
     "text": [
      "Upserting batches:  13%|█▎        | 39/290 [00:53<04:26,  1.06s/it]"
     ]
    },
    {
     "name": "stdout",
     "output_type": "stream",
     "text": [
      "Error upserting batch 39: (400)\n",
      "Reason: Bad Request\n",
      "HTTP response headers: HTTPHeaderDict({'Date': 'Fri, 13 Jun 2025 16:37:53 GMT', 'Content-Type': 'text/plain; charset=utf-8', 'Content-Length': '185', 'Connection': 'keep-alive', 'x-envoy-upstream-service-time': '38', 'server': 'envoy'})\n",
      "HTTP response body: {\"error\":{\"code\":\"INVALID_ARGUMENT\",\"message\":\"Embedding error: 'Input list must be non-empty and all elements must be non-empty.' occurred for model llama-text-embed-v2\"},\"status\":400}\n",
      "\n"
     ]
    },
    {
     "name": "stderr",
     "output_type": "stream",
     "text": [
      "Upserting batches:  19%|█▉        | 55/290 [01:16<04:28,  1.14s/it]"
     ]
    },
    {
     "name": "stdout",
     "output_type": "stream",
     "text": [
      "Error upserting batch 55: (400)\n",
      "Reason: Bad Request\n",
      "HTTP response headers: HTTPHeaderDict({'Date': 'Fri, 13 Jun 2025 16:38:16 GMT', 'Content-Type': 'text/plain; charset=utf-8', 'Content-Length': '185', 'Connection': 'keep-alive', 'x-envoy-upstream-service-time': '45', 'server': 'envoy'})\n",
      "HTTP response body: {\"error\":{\"code\":\"INVALID_ARGUMENT\",\"message\":\"Embedding error: 'Input list must be non-empty and all elements must be non-empty.' occurred for model llama-text-embed-v2\"},\"status\":400}\n",
      "\n"
     ]
    },
    {
     "name": "stderr",
     "output_type": "stream",
     "text": [
      "Upserting batches:  31%|███       | 90/290 [02:05<03:23,  1.02s/it]"
     ]
    },
    {
     "name": "stdout",
     "output_type": "stream",
     "text": [
      "Error upserting batch 90: (400)\n",
      "Reason: Bad Request\n",
      "HTTP response headers: HTTPHeaderDict({'Date': 'Fri, 13 Jun 2025 16:39:05 GMT', 'Content-Type': 'text/plain; charset=utf-8', 'Content-Length': '185', 'Connection': 'keep-alive', 'x-envoy-upstream-service-time': '39', 'server': 'envoy'})\n",
      "HTTP response body: {\"error\":{\"code\":\"INVALID_ARGUMENT\",\"message\":\"Embedding error: 'Input list must be non-empty and all elements must be non-empty.' occurred for model llama-text-embed-v2\"},\"status\":400}\n",
      "\n"
     ]
    },
    {
     "name": "stderr",
     "output_type": "stream",
     "text": [
      "Upserting batches:  38%|███▊      | 110/290 [02:32<03:08,  1.05s/it]"
     ]
    },
    {
     "name": "stdout",
     "output_type": "stream",
     "text": [
      "Error upserting batch 110: (400)\n",
      "Reason: Bad Request\n",
      "HTTP response headers: HTTPHeaderDict({'Date': 'Fri, 13 Jun 2025 16:39:32 GMT', 'Content-Type': 'text/plain; charset=utf-8', 'Content-Length': '185', 'Connection': 'keep-alive', 'x-envoy-upstream-service-time': '44', 'server': 'envoy'})\n",
      "HTTP response body: {\"error\":{\"code\":\"INVALID_ARGUMENT\",\"message\":\"Embedding error: 'Input list must be non-empty and all elements must be non-empty.' occurred for model llama-text-embed-v2\"},\"status\":400}\n",
      "\n"
     ]
    },
    {
     "name": "stderr",
     "output_type": "stream",
     "text": [
      "Upserting batches:  45%|████▍     | 130/290 [03:00<02:48,  1.05s/it]"
     ]
    },
    {
     "name": "stdout",
     "output_type": "stream",
     "text": [
      "Error upserting batch 130: (400)\n",
      "Reason: Bad Request\n",
      "HTTP response headers: HTTPHeaderDict({'Date': 'Fri, 13 Jun 2025 16:40:00 GMT', 'Content-Type': 'text/plain; charset=utf-8', 'Content-Length': '185', 'Connection': 'keep-alive', 'x-envoy-upstream-service-time': '44', 'server': 'envoy'})\n",
      "HTTP response body: {\"error\":{\"code\":\"INVALID_ARGUMENT\",\"message\":\"Embedding error: 'Input list must be non-empty and all elements must be non-empty.' occurred for model llama-text-embed-v2\"},\"status\":400}\n",
      "\n"
     ]
    },
    {
     "name": "stderr",
     "output_type": "stream",
     "text": [
      "Upserting batches:  62%|██████▏   | 181/290 [04:12<01:55,  1.06s/it]"
     ]
    },
    {
     "name": "stdout",
     "output_type": "stream",
     "text": [
      "Error upserting batch 181: (400)\n",
      "Reason: Bad Request\n",
      "HTTP response headers: HTTPHeaderDict({'Date': 'Fri, 13 Jun 2025 16:41:12 GMT', 'Content-Type': 'text/plain; charset=utf-8', 'Content-Length': '185', 'Connection': 'keep-alive', 'x-envoy-upstream-service-time': '80', 'server': 'envoy'})\n",
      "HTTP response body: {\"error\":{\"code\":\"INVALID_ARGUMENT\",\"message\":\"Embedding error: 'Input list must be non-empty and all elements must be non-empty.' occurred for model llama-text-embed-v2\"},\"status\":400}\n",
      "\n"
     ]
    },
    {
     "name": "stderr",
     "output_type": "stream",
     "text": [
      "Upserting batches:  90%|████████▉ | 260/290 [06:05<00:30,  1.03s/it]"
     ]
    },
    {
     "name": "stdout",
     "output_type": "stream",
     "text": [
      "Error upserting batch 260: (400)\n",
      "Reason: Bad Request\n",
      "HTTP response headers: HTTPHeaderDict({'Date': 'Fri, 13 Jun 2025 16:43:05 GMT', 'Content-Type': 'text/plain; charset=utf-8', 'Content-Length': '185', 'Connection': 'keep-alive', 'x-envoy-upstream-service-time': '46', 'server': 'envoy'})\n",
      "HTTP response body: {\"error\":{\"code\":\"INVALID_ARGUMENT\",\"message\":\"Embedding error: 'Input list must be non-empty and all elements must be non-empty.' occurred for model llama-text-embed-v2\"},\"status\":400}\n",
      "\n"
     ]
    },
    {
     "name": "stderr",
     "output_type": "stream",
     "text": [
      "Upserting batches:  97%|█████████▋| 280/290 [06:32<00:10,  1.05s/it]"
     ]
    },
    {
     "name": "stdout",
     "output_type": "stream",
     "text": [
      "Error upserting batch 280: (400)\n",
      "Reason: Bad Request\n",
      "HTTP response headers: HTTPHeaderDict({'Date': 'Fri, 13 Jun 2025 16:43:32 GMT', 'Content-Type': 'text/plain; charset=utf-8', 'Content-Length': '185', 'Connection': 'keep-alive', 'x-envoy-upstream-service-time': '47', 'server': 'envoy'})\n",
      "HTTP response body: {\"error\":{\"code\":\"INVALID_ARGUMENT\",\"message\":\"Embedding error: 'Input list must be non-empty and all elements must be non-empty.' occurred for model llama-text-embed-v2\"},\"status\":400}\n",
      "\n"
     ]
    },
    {
     "name": "stderr",
     "output_type": "stream",
     "text": [
      "Upserting batches: 100%|██████████| 290/290 [06:47<00:00,  1.40s/it]\n"
     ]
    },
    {
     "name": "stdout",
     "output_type": "stream",
     "text": [
      "Completed upserting 26056 records in 290 batches\n",
      "Waiting for indexing to complete...\n",
      "Index stats: {'dimension': 1024,\n",
      " 'index_fullness': 0.0,\n",
      " 'metric': 'cosine',\n",
      " 'namespaces': {'paste_data': {'vector_count': 25156}},\n",
      " 'total_vector_count': 25156,\n",
      " 'vector_type': 'dense'}\n"
     ]
    }
   ],
   "source": [
    "# Batch the upsert\n",
    "def batch_upsert(index, namespace, records, batch_size=90):\n",
    "\n",
    "    total_batches = (len(records) + batch_size - 1) // batch_size\n",
    "    \n",
    "    for i in tqdm(range(0, len(records), batch_size), desc=\"Upserting batches\"):\n",
    "        batch = records[i:i + batch_size]\n",
    "        try:\n",
    "            index.upsert_records(namespace, batch)\n",
    "            time.sleep(1)\n",
    "        except Exception as e:\n",
    "            print(f\"Error upserting batch {i//batch_size + 1}: {e}\")\n",
    "            continue\n",
    "    \n",
    "    print(f\"Completed upserting {len(records)} records in {total_batches} batches\")\n",
    "\n",
    "dense_index = pc.Index(index_name)\n",
    "\n",
    "# Upsert the records in batches\n",
    "batch_upsert(dense_index, \"paste_data\", clean_english_records)\n",
    "\n",
    "# Wait for the upserted vectors to be indexed\n",
    "print(\"Waiting for indexing to complete...\")\n",
    "time.sleep(15)\n",
    "\n",
    "# stats for the index\n",
    "stats = dense_index.describe_index_stats()\n",
    "print(\"Index stats:\", stats)"
   ]
  },
  {
   "cell_type": "code",
   "execution_count": 94,
   "metadata": {},
   "outputs": [
    {
     "name": "stdout",
     "output_type": "stream",
     "text": [
      "id: 7f06c490-3b4c-4970-aff5-7d5e15f1d544 | score: 0.39  | text: western union transfer hack bank transfer hack paypal credit card hack\n",
      "id: 45c9da7b-1ba4-4209-b8de-7705d7fdf8a3 | score: 0.39  | text: western union transfer hack bank transfer hack paypal credit card hack\n",
      "id: 4df6db0b-cc05-42e2-b640-16df963d1e5b | score: 0.39  | text: western union transfer hack bank transfer hack paypal credit card hack\n",
      "id: 6f923f4e-00b8-46b3-9df3-d5ff731cc93a | score: 0.39  | text: western union transfer hack bank transfer hack paypal credit card hack\n",
      "id: c31993ef-f8ac-4174-9947-8c48dc62fc3d | score: 0.38  | text: western union transfer hack bank transfer hack paypal credit card hack transfer\n",
      "None\n"
     ]
    }
   ],
   "source": [
    "\n",
    "def get_info(query, top_k = 10):\n",
    "    # Search the dense index and rerank results\n",
    "    results = dense_index.search(\n",
    "        namespace=\"paste_data\",\n",
    "        query={\n",
    "            \"top_k\": top_k,\n",
    "            \"inputs\": {\n",
    "                'text': query\n",
    "            }\n",
    "        }\n",
    "    )\n",
    "\n",
    "    # Print the results\n",
    "    for hit in results['result']['hits']:\n",
    "            print(f\"id: {hit['_id']:<5} | score: {round(hit['_score'], 2):<5} | text: {hit['fields']['chunk_text']:<50}\")\n",
    "            \n",
    "query = \"money hacks\"\n",
    "print(get_info(query, top_k = 5))"
   ]
  },
  {
   "cell_type": "code",
   "execution_count": null,
   "metadata": {},
   "outputs": [],
   "source": []
  }
 ],
 "metadata": {
  "kernelspec": {
   "display_name": "base",
   "language": "python",
   "name": "python3"
  },
  "language_info": {
   "codemirror_mode": {
    "name": "ipython",
    "version": 3
   },
   "file_extension": ".py",
   "mimetype": "text/x-python",
   "name": "python",
   "nbconvert_exporter": "python",
   "pygments_lexer": "ipython3",
   "version": "3.9.13"
  }
 },
 "nbformat": 4,
 "nbformat_minor": 2
}
